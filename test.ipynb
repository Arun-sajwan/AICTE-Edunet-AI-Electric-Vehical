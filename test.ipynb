{
 "cells": [
  {
   "cell_type": "markdown",
   "id": "b2917c0f-c28b-4365-868b-061eccb7101f",
   "metadata": {},
   "source": [
    "## AICTE[Edunet]-Python-AI/ML-In Electric Vehical"
   ]
  },
  {
   "cell_type": "markdown",
   "id": "20d55526-893f-4026-a04f-a05dcc3c99a7",
   "metadata": {},
   "source": [
    "🔋 ***Problem Statement:*** *Predicting Battery Health and Range in Electric Vehicles.*\n",
    "\n",
    "🎯 ****Objective****\n",
    "\n",
    "*To design a machine learning model that predicts the State of Health (SoH) of lithium-ion batteries used in electric vehicles, using real sensor data such as voltage, current, temperature, and time.*\n",
    "*The predicted SoH can then be used to estimate driving range and assist in battery maintenance and management.*"
   ]
  },
  {
   "cell_type": "code",
   "execution_count": 1,
   "id": "eef66d99-3591-486a-b005-fe22dcfadaa7",
   "metadata": {},
   "outputs": [],
   "source": [
    "import pandas as pd\n",
    "import numpy as np\n",
    "from sklearn.model_selection import train_test_split\n",
    "from sklearn.ensemble import RandomForestRegressor\n",
    "from sklearn.metrics import mean_absolute_error, r2_score\n",
    "import matplotlib.pyplot as plt"
   ]
  },
  {
   "cell_type": "code",
   "execution_count": 25,
   "id": "0d024493-2b28-425f-a309-f64b1db15b2c",
   "metadata": {},
   "outputs": [],
   "source": [
    "Battery =pd.read_csv('00005.csv')\n",
    "metadata =pd.read_csv('meta.csv')"
   ]
  },
  {
   "cell_type": "code",
   "execution_count": 28,
   "id": "0581b9e6-f518-4645-a307-8c3c83aeab5e",
   "metadata": {},
   "outputs": [
    {
     "data": {
      "text/html": [
       "<div>\n",
       "<style scoped>\n",
       "    .dataframe tbody tr th:only-of-type {\n",
       "        vertical-align: middle;\n",
       "    }\n",
       "\n",
       "    .dataframe tbody tr th {\n",
       "        vertical-align: top;\n",
       "    }\n",
       "\n",
       "    .dataframe thead th {\n",
       "        text-align: right;\n",
       "    }\n",
       "</style>\n",
       "<table border=\"1\" class=\"dataframe\">\n",
       "  <thead>\n",
       "    <tr style=\"text-align: right;\">\n",
       "      <th></th>\n",
       "      <th>Voltage_measured</th>\n",
       "      <th>Current_measured</th>\n",
       "      <th>Temperature_measured</th>\n",
       "      <th>Current_load</th>\n",
       "      <th>Voltage_load</th>\n",
       "      <th>Time</th>\n",
       "    </tr>\n",
       "  </thead>\n",
       "  <tbody>\n",
       "    <tr>\n",
       "      <th>0</th>\n",
       "      <td>4.186636</td>\n",
       "      <td>-0.001666</td>\n",
       "      <td>5.454957</td>\n",
       "      <td>0.0002</td>\n",
       "      <td>0.000</td>\n",
       "      <td>0.000</td>\n",
       "    </tr>\n",
       "    <tr>\n",
       "      <th>1</th>\n",
       "      <td>4.186626</td>\n",
       "      <td>-0.002432</td>\n",
       "      <td>5.485011</td>\n",
       "      <td>0.0002</td>\n",
       "      <td>4.203</td>\n",
       "      <td>9.297</td>\n",
       "    </tr>\n",
       "    <tr>\n",
       "      <th>2</th>\n",
       "      <td>4.001180</td>\n",
       "      <td>-0.995300</td>\n",
       "      <td>5.510369</td>\n",
       "      <td>1.0000</td>\n",
       "      <td>3.431</td>\n",
       "      <td>23.265</td>\n",
       "    </tr>\n",
       "    <tr>\n",
       "      <th>3</th>\n",
       "      <td>3.982544</td>\n",
       "      <td>-0.994923</td>\n",
       "      <td>5.581233</td>\n",
       "      <td>1.0000</td>\n",
       "      <td>3.411</td>\n",
       "      <td>36.437</td>\n",
       "    </tr>\n",
       "    <tr>\n",
       "      <th>4</th>\n",
       "      <td>3.968436</td>\n",
       "      <td>-0.995817</td>\n",
       "      <td>5.640744</td>\n",
       "      <td>1.0000</td>\n",
       "      <td>3.398</td>\n",
       "      <td>49.609</td>\n",
       "    </tr>\n",
       "  </tbody>\n",
       "</table>\n",
       "</div>"
      ],
      "text/plain": [
       "   Voltage_measured  Current_measured  Temperature_measured  Current_load  \\\n",
       "0          4.186636         -0.001666              5.454957        0.0002   \n",
       "1          4.186626         -0.002432              5.485011        0.0002   \n",
       "2          4.001180         -0.995300              5.510369        1.0000   \n",
       "3          3.982544         -0.994923              5.581233        1.0000   \n",
       "4          3.968436         -0.995817              5.640744        1.0000   \n",
       "\n",
       "   Voltage_load    Time  \n",
       "0         0.000   0.000  \n",
       "1         4.203   9.297  \n",
       "2         3.431  23.265  \n",
       "3         3.411  36.437  \n",
       "4         3.398  49.609  "
      ]
     },
     "execution_count": 28,
     "metadata": {},
     "output_type": "execute_result"
    }
   ],
   "source": [
    "Battery.head()"
   ]
  },
  {
   "cell_type": "code",
   "execution_count": 29,
   "id": "97042565-205d-44b2-9de2-aeff0d23a8a1",
   "metadata": {},
   "outputs": [
    {
     "data": {
      "text/html": [
       "<div>\n",
       "<style scoped>\n",
       "    .dataframe tbody tr th:only-of-type {\n",
       "        vertical-align: middle;\n",
       "    }\n",
       "\n",
       "    .dataframe tbody tr th {\n",
       "        vertical-align: top;\n",
       "    }\n",
       "\n",
       "    .dataframe thead th {\n",
       "        text-align: right;\n",
       "    }\n",
       "</style>\n",
       "<table border=\"1\" class=\"dataframe\">\n",
       "  <thead>\n",
       "    <tr style=\"text-align: right;\">\n",
       "      <th></th>\n",
       "      <th>type</th>\n",
       "      <th>start_time</th>\n",
       "      <th>ambient_temperature</th>\n",
       "      <th>battery_id</th>\n",
       "      <th>test_id</th>\n",
       "      <th>uid</th>\n",
       "      <th>filename</th>\n",
       "      <th>Capacity</th>\n",
       "      <th>Re</th>\n",
       "      <th>Rct</th>\n",
       "    </tr>\n",
       "  </thead>\n",
       "  <tbody>\n",
       "    <tr>\n",
       "      <th>0</th>\n",
       "      <td>discharge</td>\n",
       "      <td>[2010.       7.      21.      15.       0.    ...</td>\n",
       "      <td>4</td>\n",
       "      <td>B0047</td>\n",
       "      <td>0</td>\n",
       "      <td>1</td>\n",
       "      <td>00001.csv</td>\n",
       "      <td>1.6743047446975208</td>\n",
       "      <td>NaN</td>\n",
       "      <td>NaN</td>\n",
       "    </tr>\n",
       "    <tr>\n",
       "      <th>1</th>\n",
       "      <td>impedance</td>\n",
       "      <td>[2010.       7.      21.      16.      53.    ...</td>\n",
       "      <td>24</td>\n",
       "      <td>B0047</td>\n",
       "      <td>1</td>\n",
       "      <td>2</td>\n",
       "      <td>00002.csv</td>\n",
       "      <td>NaN</td>\n",
       "      <td>0.05605783343888099</td>\n",
       "      <td>0.20097016584458333</td>\n",
       "    </tr>\n",
       "    <tr>\n",
       "      <th>2</th>\n",
       "      <td>charge</td>\n",
       "      <td>[2010.       7.      21.      17.      25.    ...</td>\n",
       "      <td>4</td>\n",
       "      <td>B0047</td>\n",
       "      <td>2</td>\n",
       "      <td>3</td>\n",
       "      <td>00003.csv</td>\n",
       "      <td>NaN</td>\n",
       "      <td>NaN</td>\n",
       "      <td>NaN</td>\n",
       "    </tr>\n",
       "    <tr>\n",
       "      <th>3</th>\n",
       "      <td>impedance</td>\n",
       "      <td>[2010    7   21   20   31    5]</td>\n",
       "      <td>24</td>\n",
       "      <td>B0047</td>\n",
       "      <td>3</td>\n",
       "      <td>4</td>\n",
       "      <td>00004.csv</td>\n",
       "      <td>NaN</td>\n",
       "      <td>0.05319185850921101</td>\n",
       "      <td>0.16473399914864734</td>\n",
       "    </tr>\n",
       "    <tr>\n",
       "      <th>4</th>\n",
       "      <td>discharge</td>\n",
       "      <td>[2.0100e+03 7.0000e+00 2.1000e+01 2.1000e+01 2...</td>\n",
       "      <td>4</td>\n",
       "      <td>B0047</td>\n",
       "      <td>4</td>\n",
       "      <td>5</td>\n",
       "      <td>00005.csv</td>\n",
       "      <td>1.5243662105099023</td>\n",
       "      <td>NaN</td>\n",
       "      <td>NaN</td>\n",
       "    </tr>\n",
       "  </tbody>\n",
       "</table>\n",
       "</div>"
      ],
      "text/plain": [
       "        type                                         start_time  \\\n",
       "0  discharge  [2010.       7.      21.      15.       0.    ...   \n",
       "1  impedance  [2010.       7.      21.      16.      53.    ...   \n",
       "2     charge  [2010.       7.      21.      17.      25.    ...   \n",
       "3  impedance                    [2010    7   21   20   31    5]   \n",
       "4  discharge  [2.0100e+03 7.0000e+00 2.1000e+01 2.1000e+01 2...   \n",
       "\n",
       "   ambient_temperature battery_id  test_id  uid   filename  \\\n",
       "0                    4      B0047        0    1  00001.csv   \n",
       "1                   24      B0047        1    2  00002.csv   \n",
       "2                    4      B0047        2    3  00003.csv   \n",
       "3                   24      B0047        3    4  00004.csv   \n",
       "4                    4      B0047        4    5  00005.csv   \n",
       "\n",
       "             Capacity                   Re                  Rct  \n",
       "0  1.6743047446975208                  NaN                  NaN  \n",
       "1                 NaN  0.05605783343888099  0.20097016584458333  \n",
       "2                 NaN                  NaN                  NaN  \n",
       "3                 NaN  0.05319185850921101  0.16473399914864734  \n",
       "4  1.5243662105099023                  NaN                  NaN  "
      ]
     },
     "execution_count": 29,
     "metadata": {},
     "output_type": "execute_result"
    }
   ],
   "source": [
    "metadata.head()"
   ]
  },
  {
   "cell_type": "code",
   "execution_count": 30,
   "id": "9501a059-9a50-4191-a3b5-7953ddde1041",
   "metadata": {},
   "outputs": [
    {
     "name": "stdout",
     "output_type": "stream",
     "text": [
      "Matching rows found: 1\n"
     ]
    }
   ],
   "source": [
    "matches = metadata[metadata[\"filename\"].astype(str).str.contains(\"00005\")]\n",
    "print(\"Matching rows found:\", len(matches))"
   ]
  },
  {
   "cell_type": "code",
   "execution_count": 38,
   "id": "5ef478a0-b3c6-4906-9a89-33aa1db157ca",
   "metadata": {},
   "outputs": [
    {
     "data": {
      "text/html": [
       "<div>\n",
       "<style scoped>\n",
       "    .dataframe tbody tr th:only-of-type {\n",
       "        vertical-align: middle;\n",
       "    }\n",
       "\n",
       "    .dataframe tbody tr th {\n",
       "        vertical-align: top;\n",
       "    }\n",
       "\n",
       "    .dataframe thead th {\n",
       "        text-align: right;\n",
       "    }\n",
       "</style>\n",
       "<table border=\"1\" class=\"dataframe\">\n",
       "  <thead>\n",
       "    <tr style=\"text-align: right;\">\n",
       "      <th></th>\n",
       "      <th>type</th>\n",
       "      <th>start_time</th>\n",
       "      <th>ambient_temperature</th>\n",
       "      <th>battery_id</th>\n",
       "      <th>test_id</th>\n",
       "      <th>uid</th>\n",
       "      <th>filename</th>\n",
       "      <th>Capacity</th>\n",
       "      <th>Re</th>\n",
       "      <th>Rct</th>\n",
       "    </tr>\n",
       "  </thead>\n",
       "  <tbody>\n",
       "    <tr>\n",
       "      <th>4</th>\n",
       "      <td>discharge</td>\n",
       "      <td>[2.0100e+03 7.0000e+00 2.1000e+01 2.1000e+01 2...</td>\n",
       "      <td>4</td>\n",
       "      <td>B0047</td>\n",
       "      <td>4</td>\n",
       "      <td>5</td>\n",
       "      <td>00005.csv</td>\n",
       "      <td>1.5243662105099023</td>\n",
       "      <td>NaN</td>\n",
       "      <td>NaN</td>\n",
       "    </tr>\n",
       "  </tbody>\n",
       "</table>\n",
       "</div>"
      ],
      "text/plain": [
       "        type                                         start_time  \\\n",
       "4  discharge  [2.0100e+03 7.0000e+00 2.1000e+01 2.1000e+01 2...   \n",
       "\n",
       "   ambient_temperature battery_id  test_id  uid   filename  \\\n",
       "4                    4      B0047        4    5  00005.csv   \n",
       "\n",
       "             Capacity   Re  Rct  \n",
       "4  1.5243662105099023  NaN  NaN  "
      ]
     },
     "execution_count": 38,
     "metadata": {},
     "output_type": "execute_result"
    }
   ],
   "source": [
    "matches.head()"
   ]
  },
  {
   "cell_type": "code",
   "execution_count": 40,
   "id": "dd0aaa14-add9-448b-9620-0c287b9b26e5",
   "metadata": {},
   "outputs": [
    {
     "name": "stdout",
     "output_type": "stream",
     "text": [
      "<class 'pandas.core.frame.DataFrame'>\n",
      "Index: 1 entries, 4 to 4\n",
      "Data columns (total 10 columns):\n",
      " #   Column               Non-Null Count  Dtype \n",
      "---  ------               --------------  ----- \n",
      " 0   type                 1 non-null      object\n",
      " 1   start_time           1 non-null      object\n",
      " 2   ambient_temperature  1 non-null      int64 \n",
      " 3   battery_id           1 non-null      object\n",
      " 4   test_id              1 non-null      int64 \n",
      " 5   uid                  1 non-null      int64 \n",
      " 6   filename             1 non-null      object\n",
      " 7   Capacity             1 non-null      object\n",
      " 8   Re                   0 non-null      object\n",
      " 9   Rct                  0 non-null      object\n",
      "dtypes: int64(3), object(7)\n",
      "memory usage: 88.0+ bytes\n"
     ]
    }
   ],
   "source": [
    "matches.info()"
   ]
  },
  {
   "cell_type": "code",
   "execution_count": 42,
   "id": "d2627e65-87ce-4f7e-9675-24ef955f2dfb",
   "metadata": {},
   "outputs": [],
   "source": [
    "matches[\"Capacity\"] = matches[\"Capacity\"].astype(float)"
   ]
  },
  {
   "cell_type": "code",
   "execution_count": 44,
   "id": "addb51c0-cc71-48b3-8b6c-fb7c62090101",
   "metadata": {},
   "outputs": [],
   "source": [
    "matches = matches.dropna(subset=[\"Capacity\"])\n",
    "matches[\"SoH\"] = (matches[\"Capacity\"] / 2.0) * 100"
   ]
  },
  {
   "cell_type": "code",
   "execution_count": 45,
   "id": "43341d4a-0f1c-4d2b-8943-fe5163e0046e",
   "metadata": {},
   "outputs": [
    {
     "name": "stdout",
     "output_type": "stream",
     "text": [
      "<class 'pandas.core.frame.DataFrame'>\n",
      "Index: 1 entries, 4 to 4\n",
      "Data columns (total 11 columns):\n",
      " #   Column               Non-Null Count  Dtype  \n",
      "---  ------               --------------  -----  \n",
      " 0   type                 1 non-null      object \n",
      " 1   start_time           1 non-null      object \n",
      " 2   ambient_temperature  1 non-null      int64  \n",
      " 3   battery_id           1 non-null      object \n",
      " 4   test_id              1 non-null      int64  \n",
      " 5   uid                  1 non-null      int64  \n",
      " 6   filename             1 non-null      object \n",
      " 7   Capacity             1 non-null      float64\n",
      " 8   Re                   0 non-null      object \n",
      " 9   Rct                  0 non-null      object \n",
      " 10  SoH                  1 non-null      float64\n",
      "dtypes: float64(2), int64(3), object(6)\n",
      "memory usage: 96.0+ bytes\n"
     ]
    }
   ],
   "source": [
    "matches.info()"
   ]
  },
  {
   "cell_type": "code",
   "execution_count": 46,
   "id": "46f15c5a-c208-4505-8aaa-e8ade07793f5",
   "metadata": {},
   "outputs": [
    {
     "data": {
      "text/html": [
       "<div>\n",
       "<style scoped>\n",
       "    .dataframe tbody tr th:only-of-type {\n",
       "        vertical-align: middle;\n",
       "    }\n",
       "\n",
       "    .dataframe tbody tr th {\n",
       "        vertical-align: top;\n",
       "    }\n",
       "\n",
       "    .dataframe thead th {\n",
       "        text-align: right;\n",
       "    }\n",
       "</style>\n",
       "<table border=\"1\" class=\"dataframe\">\n",
       "  <thead>\n",
       "    <tr style=\"text-align: right;\">\n",
       "      <th></th>\n",
       "      <th>type</th>\n",
       "      <th>start_time</th>\n",
       "      <th>ambient_temperature</th>\n",
       "      <th>battery_id</th>\n",
       "      <th>test_id</th>\n",
       "      <th>uid</th>\n",
       "      <th>filename</th>\n",
       "      <th>Capacity</th>\n",
       "      <th>Re</th>\n",
       "      <th>Rct</th>\n",
       "      <th>SoH</th>\n",
       "    </tr>\n",
       "  </thead>\n",
       "  <tbody>\n",
       "    <tr>\n",
       "      <th>4</th>\n",
       "      <td>discharge</td>\n",
       "      <td>[2.0100e+03 7.0000e+00 2.1000e+01 2.1000e+01 2...</td>\n",
       "      <td>4</td>\n",
       "      <td>B0047</td>\n",
       "      <td>4</td>\n",
       "      <td>5</td>\n",
       "      <td>00005.csv</td>\n",
       "      <td>1.524366</td>\n",
       "      <td>NaN</td>\n",
       "      <td>NaN</td>\n",
       "      <td>76.218311</td>\n",
       "    </tr>\n",
       "  </tbody>\n",
       "</table>\n",
       "</div>"
      ],
      "text/plain": [
       "        type                                         start_time  \\\n",
       "4  discharge  [2.0100e+03 7.0000e+00 2.1000e+01 2.1000e+01 2...   \n",
       "\n",
       "   ambient_temperature battery_id  test_id  uid   filename  Capacity   Re  \\\n",
       "4                    4      B0047        4    5  00005.csv  1.524366  NaN   \n",
       "\n",
       "   Rct        SoH  \n",
       "4  NaN  76.218311  "
      ]
     },
     "execution_count": 46,
     "metadata": {},
     "output_type": "execute_result"
    }
   ],
   "source": [
    "matches.head()"
   ]
  },
  {
   "cell_type": "code",
   "execution_count": null,
   "id": "dd20bf09-a772-41b5-ac84-1686d1efd25b",
   "metadata": {},
   "outputs": [],
   "source": []
  }
 ],
 "metadata": {
  "kernelspec": {
   "display_name": "Python 3 (ipykernel)",
   "language": "python",
   "name": "python3"
  },
  "language_info": {
   "codemirror_mode": {
    "name": "ipython",
    "version": 3
   },
   "file_extension": ".py",
   "mimetype": "text/x-python",
   "name": "python",
   "nbconvert_exporter": "python",
   "pygments_lexer": "ipython3",
   "version": "3.13.0"
  }
 },
 "nbformat": 4,
 "nbformat_minor": 5
}
